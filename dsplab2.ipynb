{
 "cells": [
  {
   "cell_type": "code",
   "execution_count": 5,
   "id": "12c70a68-d74e-431a-81ab-dee664bdb2a3",
   "metadata": {},
   "outputs": [
    {
     "name": "stdout",
     "output_type": "stream",
     "text": [
      "Requirement already satisfied: numpy in c:\\users\\jastin\\anaconda3\\lib\\site-packages (1.26.4)\n"
     ]
    }
   ],
   "source": [
    "!pip install numpy\n"
   ]
  },
  {
   "cell_type": "code",
   "execution_count": 6,
   "id": "351952d0-e76e-4e26-a9cb-1ad52eb800ee",
   "metadata": {},
   "outputs": [],
   "source": [
    "import numpy as np"
   ]
  },
  {
   "cell_type": "code",
   "execution_count": 90,
   "id": "dab4c5c2-a40c-4670-aa94-1b7c9fa31c95",
   "metadata": {},
   "outputs": [
    {
     "name": "stdout",
     "output_type": "stream",
     "text": [
      "1. Solve the system using elimination method in matrix form:\n",
      "x = 3.44\n",
      "y = 4.70\n",
      "z = 1.62\n",
      "w = 0.24\n"
     ]
    }
   ],
   "source": [
    "A = np.array([[1, 1, 1, 1],\n",
    "              [2, -1, 3, 4],\n",
    "              [-3, 2, -2, 5],\n",
    "              [1, -1, 4, -1]])\n",
    "\n",
    "B = np.array([10, 8, -3, 5])\n",
    "\n",
    "ans = np.linalg.solve(A, B)\n",
    "\n",
    "variables = ['x', 'y', 'z', 'w']\n",
    "\n",
    "print(\"1. Solve the system using elimination method in matrix form:\")\n",
    "for var, value in zip(variables, ans):\n",
    "    print(f\"{var} = {value:.2f}\")"
   ]
  },
  {
   "cell_type": "code",
   "execution_count": 84,
   "id": "87c296ab-ff5e-413c-943a-66a3b7e8f752",
   "metadata": {},
   "outputs": [
    {
     "name": "stdout",
     "output_type": "stream",
     "text": [
      "2.Solving for the currents of a electrical network can be determined by solving it as a system of linear equations. :\n",
      "I1 = 0.0097 A\n",
      "I2 = -0.0042 A\n",
      "I3 = 0.0139 A\n"
     ]
    }
   ],
   "source": [
    "A = np.array([[2100, 1500], \n",
    "              [-600, 900]])\n",
    "\n",
    "B = np.array([12, 15])\n",
    "\n",
    "I2, I3 = np.linalg.solve(A, B)\n",
    "I1 = I2 + I3\n",
    "\n",
    "print(\"2.Solving for the currents of a electrical network can be determined by solving it as a system of linear equations. :\")\n",
    "print(f\"I1 = {I1:.4f} A\")\n",
    "print(f\"I2 = {I2:.4f} A\")\n",
    "print(f\"I3 = {I3:.4f} A\")\n"
   ]
  },
  {
   "cell_type": "code",
   "execution_count": 82,
   "id": "bf99793f-2399-489f-bd7d-f1a882f43246",
   "metadata": {},
   "outputs": [
    {
     "name": "stdout",
     "output_type": "stream",
     "text": [
      "3.Find the inverse of matrix A. :\n",
      "[[-0.375 -0.125  0.625]\n",
      " [-0.125  0.625 -0.125]\n",
      " [ 0.625 -0.125 -0.375]]\n"
     ]
    }
   ],
   "source": [
    "import numpy as np\n",
    "\n",
    "\n",
    "A = np.array([[2, 1, 3],\n",
    "              [1, 2, 1],\n",
    "              [3, 1, 2]])\n",
    "print(\"3.Find the inverse of matrix A. :\")\n",
    "print(np.linalg.inv(A))"
   ]
  },
  {
   "cell_type": "code",
   "execution_count": null,
   "id": "a23f4243-135b-4544-a6b6-95ffb50a6c44",
   "metadata": {},
   "outputs": [],
   "source": []
  }
 ],
 "metadata": {
  "kernelspec": {
   "display_name": "Python 3 (ipykernel)",
   "language": "python",
   "name": "python3"
  },
  "language_info": {
   "codemirror_mode": {
    "name": "ipython",
    "version": 3
   },
   "file_extension": ".py",
   "mimetype": "text/x-python",
   "name": "python",
   "nbconvert_exporter": "python",
   "pygments_lexer": "ipython3",
   "version": "3.12.4"
  }
 },
 "nbformat": 4,
 "nbformat_minor": 5
}
