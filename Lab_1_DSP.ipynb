{
  "nbformat": 4,
  "nbformat_minor": 0,
  "metadata": {
    "colab": {
      "provenance": [],
      "authorship_tag": "ABX9TyMVFzSjJ9fPypRQVoFXMiay",
      "include_colab_link": true
    },
    "kernelspec": {
      "name": "python3",
      "display_name": "Python 3"
    },
    "language_info": {
      "name": "python"
    }
  },
  "cells": [
    {
      "cell_type": "markdown",
      "metadata": {
        "id": "view-in-github",
        "colab_type": "text"
      },
      "source": [
        "<a href=\"https://colab.research.google.com/github/jastinespares/Digital-Signal-Processing/blob/main/Lab_1_DSP.ipynb\" target=\"_parent\"><img src=\"https://colab.research.google.com/assets/colab-badge.svg\" alt=\"Open In Colab\"/></a>"
      ]
    },
    {
      "cell_type": "code",
      "execution_count": 38,
      "metadata": {
        "colab": {
          "base_uri": "https://localhost:8080/"
        },
        "id": "Io-PALATtoxP",
        "outputId": "4e5adfee-bba2-4bab-97c5-0fc5901dec78"
      },
      "outputs": [
        {
          "output_type": "stream",
          "name": "stdout",
          "text": [
            " Enter your Name Klasmeyt: Jastin Jason Espares\n",
            " Enter your Subject Course: DIGITAL SIGNAL PROCESSING\n",
            "\n",
            "Enter your Prelim Grade: Klasmeyt: 70\n",
            "\n",
            "Enter your Midterm Grade Klasemyt: 70\n",
            "\n",
            "Enter your Final Grade Klasmeyt: 70\n",
            "\n",
            "Name:  Jastin Jason Espares \n",
            "\n",
            "Course:  DIGITAL SIGNAL PROCESSING \n",
            "\n",
            "Semestral Grade: 70.00\n",
            "Result: 😆\n",
            "\n",
            "Do you want to see your grade equivalent? (yes/no): yes\n",
            "Your grade equivalent is: 3.00\n"
          ]
        }
      ],
      "source": [
        "class Student:\n",
        "  def __init__(self,Student,Course,Prelim,Midterms,Finals):\n",
        "    self.Student=Student\n",
        "    self.Course=Course\n",
        "    self.Prelim=Prelim\n",
        "    self.Midterms=Midterms\n",
        "    self.Finals=Finals\n",
        "\n",
        "  def myFunction(self):\n",
        "        print(\"\\nName: \", self.Student, \"\\n\\nCourse: \", self.Course, \"\\n\")\n",
        "\n",
        "  def calculate_Sem_grade(self):\n",
        "      return (self.Prelim * 0.3   + self.Midterms * 0.3 + self.Finals * 0.4 )\n",
        "\n",
        "  def grade_equivalent(self, grade):\n",
        "        if 97 <= grade <= 100:\n",
        "            return \"1.00\"\n",
        "        elif 93 <= grade < 97:\n",
        "            return \"1.25\"\n",
        "        elif 89 <= grade < 93:\n",
        "            return \"1.50\"\n",
        "        elif 85 <= grade < 89:\n",
        "            return \"1.75\"\n",
        "        elif 82 <= grade < 85:\n",
        "            return \"2.00\"\n",
        "        elif 79 <= grade < 82:\n",
        "            return \"2.25\"\n",
        "        elif 76 <= grade < 79:\n",
        "            return \"2.50\"\n",
        "        elif 73 <= grade < 76:\n",
        "            return \"2.75\"\n",
        "        elif 70 <= grade < 73:\n",
        "            return \"3.00\"\n",
        "        else:\n",
        "            return \"Failed\"\n",
        "Adamsonian_Student = input(\" Enter your Name Klasmeyt: \")\n",
        "Course_Subject = input(\" Enter your Subject Course: \")\n",
        "\n",
        "Prelim = float(input(\"\\n\" \"Enter your Prelim Grade: Klasmeyt: \"))\n",
        "Midterms = float(input(\"\\n\" \"Enter your Midterm Grade Klasemyt: \"))\n",
        "Finals = float(input(\"\\n\" \"Enter your Final Grade Klasmeyt: \"))\n",
        "\n",
        "myself = Student(Adamsonian_Student, Course_Subject, Prelim, Midterms, Finals)\n",
        "myself.myFunction()\n",
        "\n",
        "Sem_grade= myself.calculate_Sem_grade()\n",
        "print(\"Semestral Grade: {:.2f}\".format(Sem_grade))\n",
        "\n",
        "happy, lol, sad = \"\\U0001F600\", \"\\U0001F606\", \"\\U0001F62D\"\n",
        "\n",
        "result = happy if Sem_grade > 70.00 else lol if Sem_grade == 70.00 else sad\n",
        "print(f\"Result: {result}\\n\")\n",
        "\n",
        "show_equivalent = input(\"Do you want to see your grade equivalent? (yes/no): \")\n",
        "if show_equivalent == \"yes\":\n",
        "    grade_equivalent = myself.grade_equivalent(Sem_grade)\n",
        "    print(f\"Your grade equivalent is: {grade_equivalent}\")\n",
        "\n",
        ""
      ]
    }
  ]
}